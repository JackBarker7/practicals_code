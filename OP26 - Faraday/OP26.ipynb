{
 "cells": [
  {
   "cell_type": "code",
   "execution_count": 3,
   "metadata": {},
   "outputs": [],
   "source": [
    "import pandas as pd\n",
    "import numpy as np\n",
    "import matplotlib.pyplot as plt\n",
    "from scipy.optimize import curve_fit\n",
    "pi = np.pi\n",
    "%matplotlib inline\n"
   ]
  },
  {
   "cell_type": "markdown",
   "metadata": {},
   "source": [
    "Initiialise data and calculate $\\omega$ using $\\omega=\\frac{2\\pi c}{n\\lambda}$"
   ]
  },
  {
   "cell_type": "code",
   "execution_count": 4,
   "metadata": {},
   "outputs": [
    {
     "data": {
      "text/html": [
       "<div>\n",
       "<style scoped>\n",
       "    .dataframe tbody tr th:only-of-type {\n",
       "        vertical-align: middle;\n",
       "    }\n",
       "\n",
       "    .dataframe tbody tr th {\n",
       "        vertical-align: top;\n",
       "    }\n",
       "\n",
       "    .dataframe thead th {\n",
       "        text-align: right;\n",
       "    }\n",
       "</style>\n",
       "<table border=\"1\" class=\"dataframe\">\n",
       "  <thead>\n",
       "    <tr style=\"text-align: right;\">\n",
       "      <th></th>\n",
       "      <th>wavelength</th>\n",
       "      <th>n</th>\n",
       "      <th>omega</th>\n",
       "      <th>n_squared</th>\n",
       "    </tr>\n",
       "  </thead>\n",
       "  <tbody>\n",
       "    <tr>\n",
       "      <th>0</th>\n",
       "      <td>4.860000e-07</td>\n",
       "      <td>1.95869</td>\n",
       "      <td>1.980155e+15</td>\n",
       "      <td>3.836467</td>\n",
       "    </tr>\n",
       "    <tr>\n",
       "      <th>1</th>\n",
       "      <td>5.890000e-07</td>\n",
       "      <td>1.92663</td>\n",
       "      <td>1.661068e+15</td>\n",
       "      <td>3.711903</td>\n",
       "    </tr>\n",
       "    <tr>\n",
       "      <th>2</th>\n",
       "      <td>6.560000e-07</td>\n",
       "      <td>1.91457</td>\n",
       "      <td>1.500811e+15</td>\n",
       "      <td>3.665578</td>\n",
       "    </tr>\n",
       "  </tbody>\n",
       "</table>\n",
       "</div>"
      ],
      "text/plain": [
       "     wavelength        n         omega  n_squared\n",
       "0  4.860000e-07  1.95869  1.980155e+15   3.836467\n",
       "1  5.890000e-07  1.92663  1.661068e+15   3.711903\n",
       "2  6.560000e-07  1.91457  1.500811e+15   3.665578"
      ]
     },
     "execution_count": 4,
     "metadata": {},
     "output_type": "execute_result"
    }
   ],
   "source": [
    "ref_index = pd.DataFrame({\"wavelength\": np.array([486, 589, 656])*1e-9, \"n\": [1.95869, 1.92663, 1.91457]})\n",
    "ref_index[\"omega\"] = 2*pi*3e8/(ref_index[\"n\"]*ref_index[\"wavelength\"])\n",
    "ref_index[\"n_squared\"] = ref_index[\"n\"]**2\n",
    "ref_index"
   ]
  },
  {
   "cell_type": "markdown",
   "metadata": {},
   "source": [
    "Calculate values for $a=\\frac{Ne^2}{\\varepsilon_0 m}$ and $\\omega_0$\n",
    "\n",
    "We expect $\\omega_0$ to be in the UV range, so we use a starting value of $1\\times10^{16}$, corresponding to a wavelength of roughly 100nm.\n",
    "\n",
    "For the constant $a$, we use $N=1\\times10^{29}$ to initialise it (see https://en.wikipedia.org/wiki/Number_density#Examples)"
   ]
  },
  {
   "cell_type": "code",
   "execution_count": 37,
   "metadata": {},
   "outputs": [
    {
     "data": {
      "text/plain": [
       "array([7.33678940e+31, 5.45823031e+15])"
      ]
     },
     "execution_count": 37,
     "metadata": {},
     "output_type": "execute_result"
    }
   ],
   "source": [
    "def fit_func(omega, a, omega_0):\n",
    "    return 1+a/(omega_0**2-omega**2)\n",
    "#guess of N=100*10^27\n",
    "expected_a = 1e30*(1.6e-19)**2/(8.854e-12*9.11e-31)\n",
    "expected_omega_0 = 1e16\n",
    "p0 = [expected_a, expected_omega_0]\n",
    "params, pcov = curve_fit(fit_func, ref_index[\"omega\"], ref_index[\"n_squared\"], p0)\n",
    "params # a, omega_0"
   ]
  },
  {
   "cell_type": "code",
   "execution_count": 38,
   "metadata": {},
   "outputs": [
    {
     "data": {
      "text/plain": [
       "array([1.54148466e+30, 5.14833558e+13])"
      ]
     },
     "execution_count": 38,
     "metadata": {},
     "output_type": "execute_result"
    }
   ],
   "source": [
    "np.sqrt(pcov.diagonal())"
   ]
  },
  {
   "cell_type": "code",
   "execution_count": 17,
   "metadata": {},
   "outputs": [
    {
     "data": {
      "image/png": "[encoded data removed]",
      "text/plain": [
       "<Figure size 432x288 with 1 Axes>"
      ]
     },
     "metadata": {
      "needs_background": "light"
     },
     "output_type": "display_data"
    }
   ],
   "source": [
    "# plt.plot(ref_index[\"n_squared\"], fit_func(ref_index[\"omega\"], *params))\n",
    "plt.plot(ref_index[\"n_squared\"], ref_index[\"omega\"])\n",
    "plt.show()"
   ]
  },
  {
   "cell_type": "code",
   "execution_count": 35,
   "metadata": {},
   "outputs": [
    {
     "data": {
      "image/png": "[encoded data removed]",
      "text/plain": [
       "<Figure size 432x288 with 1 Axes>"
      ]
     },
     "metadata": {
      "needs_background": "light"
     },
     "output_type": "display_data"
    }
   ],
   "source": [
    "x_vals = np.linspace(4e15,5e15,10000)\n",
    "plt.plot(x_vals, np.sqrt(1+ params[0]/(params[1]**2-x_vals**2)))\n",
    "plt.xlabel(\"$\\omega$\")\n",
    "plt.ylabel(\"n\")\n",
    "plt.savefig(\"eq10\")\n",
    "plt.show()"
   ]
  },
  {
   "cell_type": "code",
   "execution_count": null,
   "metadata": {},
   "outputs": [],
   "source": [
    "def verdet(omega):\n",
    "    "
   ]
  }
 ],
 "metadata": {
  "kernelspec": {
   "display_name": "Python 3 (ipykernel)",
   "language": "python",
   "name": "python3"
  },
  "language_info": {
   "codemirror_mode": {
    "name": "ipython",
    "version": 3
   },
   "file_extension": ".py",
   "mimetype": "text/x-python",
   "name": "python",
   "nbconvert_exporter": "python",
   "pygments_lexer": "ipython3",
   "version": "3.8.5"
  },
  "vscode": {
   "interpreter": {
    "hash": "49230419ac5b5dccadf7ecc09a071509d169024853e922f47f33e7bbc4d789d9"
   }
  }
 },
 "nbformat": 4,
 "nbformat_minor": 4
}
