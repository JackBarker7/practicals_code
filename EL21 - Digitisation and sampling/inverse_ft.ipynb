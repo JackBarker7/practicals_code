{
 "cells": [
  {
   "cell_type": "code",
   "execution_count": 384,
   "metadata": {},
   "outputs": [],
   "source": [
    "import matplotlib.pyplot as plt # used for plotting\n",
    "import numpy as np # used for most numerical operations\n",
    "import math # used for floor function"
   ]
  },
  {
   "cell_type": "markdown",
   "metadata": {},
   "source": [
    "## 5.2 - Reverse Fourier Transform\n",
    "\n",
    "Use the Fourier series for a square wave to generate a wave of a given frequency.\n",
    "\n",
    "For a square wave, $f(x)=\\sum_{k=1}^{\\infty}\\frac{2}{k\\pi}\\left(1-(-1)^k\\right)\\sin{\\left(\\frac{2k\\pi x}{L}\\right)}$"
   ]
  },
  {
   "cell_type": "code",
   "execution_count": 385,
   "metadata": {},
   "outputs": [],
   "source": [
    "fs=10000. # sampling frequency\n",
    "nsample=1000 # number of samples\n",
    "\n",
    "def sqare_wave(f: float, amp: float, sample_nums: np.ndarray, fourier_terms: int = 1000):\n",
    "    \"\"\" Returns a sqare wave with frequency f and amplitude amp, sampled at \n",
    "    positions in array sample_nums divided by the sampling frequency.\n",
    "    fourier_terms is the number of terms in the Fourier series to use\n",
    "    \"\"\"\n",
    "    L = f/fs\n",
    "    y=0\n",
    "    for k in range(1,fourier_terms+1):\n",
    "        y += 2*(1-(-1)**k)/(k*np.pi)*np.sin(2*np.pi*(k)*sample_nums/fs/L)\n",
    "    \n",
    "    return amp*y"
   ]
  },
  {
   "cell_type": "markdown",
   "metadata": {},
   "source": [
    "Generate example signal and plot"
   ]
  },
  {
   "cell_type": "code",
   "execution_count": 386,
   "metadata": {},
   "outputs": [],
   "source": [
    "sample_nums = np.arange(nsample) # sample numbers\n",
    "# plot signal\n",
    "signal = sqare_wave(120,4, sample_nums)\n",
    "plt.plot(signal)\n",
    "plt.xlabel(\"sample number\")\n",
    "plt.ylabel(\"Voltage (V)\")\n",
    "plt.title(\"Square wave fourier series\")\n",
    "plt.savefig(\"square_wave_fourier_series.png\")\n",
    "#plt.show()"
   ]
  },
  {
   "cell_type": "markdown",
   "metadata": {},
   "source": [
    "Get Fourier transform of signal and plot"
   ]
  },
  {
   "cell_type": "code",
   "execution_count": 387,
   "metadata": {},
   "outputs": [],
   "source": [
    "# perform the FFT. Outputs list of complex numbers\n",
    "fourier=np.fft.fft(signal)\n",
    "# frequencies for the coefficient from the FFT\n",
    "ffs=fs/nsample*sample_nums\n",
    "# plot FFT\n",
    "plt.plot(ffs,abs(fourier))\n",
    "plt.xlabel(\"frequency [Hz]\")\n",
    "plt.ylabel(\"Fourier coefficient amplitude\")\n",
    "plt.title(\"FFT of square wave fourier series\")\n",
    "plt.savefig(\"FFT_square_wave_fourier_series.png\")\n",
    "#plt.show()"
   ]
  },
  {
   "cell_type": "markdown",
   "metadata": {},
   "source": [
    "We also plot the phase. To make the plot look better, we only plot the phases where the amplitude of the FFT is large (since the phases are only meaningful where the FFT amplitude is significant). Elsewhere in the plot we set the phase to 0. Note that the phase is antisymmetric about the Nyquist frequency $f_N = f_s/2$"
   ]
  },
  {
   "cell_type": "code",
   "execution_count": 388,
   "metadata": {},
   "outputs": [],
   "source": [
    "# we also want to plot the phase of the FFT\n",
    "# we only plot when the amplitude of the FFT coefficient is large\n",
    "# to avoid plotting noise\n",
    "min_amplitude = 200\n",
    "angles = [np.angle(fourier[i]) if abs(fourier[i])>min_amplitude else 0 for i in range(len(fourier)) ]\n",
    "plt.plot(ffs, angles)\n",
    "plt.xlabel(\"frequency [Hz]\")\n",
    "plt.ylabel(\"phase [rad]\")\n",
    "plt.title(\"Phase of FFT of square wave fourier series\")\n",
    "plt.savefig(\"phase_FFT_square_wave_fourier_series.png\")\n",
    "#plt.show()"
   ]
  },
  {
   "cell_type": "markdown",
   "metadata": {},
   "source": [
    "Perform inverse FT to get the original signal back"
   ]
  },
  {
   "cell_type": "code",
   "execution_count": 389,
   "metadata": {},
   "outputs": [],
   "source": [
    "# inverse FFT (use real part because numerical errors will introduce non-zero (but small) imaginary part)\n",
    "reverse=np.real(np.fft.ifft(fourier))\n",
    "# plot inverse FFT\n",
    "plt.plot(reverse)\n",
    "plt.xlabel(\"sample number\")\n",
    "plt.ylabel(\"Voltage (V)\")\n",
    "plt.title(\"Inverse FFT of FFT of square wave fourier series\")\n",
    "plt.savefig(\"inverse_FFT_square_wave_fourier_series.png\")\n",
    "#plt.show()"
   ]
  },
  {
   "cell_type": "markdown",
   "metadata": {},
   "source": [
    "We also plot the inverse of the FFT of the series with the phase set to 0 on all the coefficients (i.e. plotting the FFT of only the magnitude with no imaginary part)"
   ]
  },
  {
   "cell_type": "code",
   "execution_count": 390,
   "metadata": {},
   "outputs": [],
   "source": [
    "# compute inverse FFT using only magnitude of FFT coefficients (equivalent to setting phase to 0)\n",
    "reverse_real =np.real(np.fft.ifft(np.abs(fourier)))\n",
    "\n",
    "# plot inverse FFT\n",
    "plt.plot(reverse_real)\n",
    "plt.xlabel(\"sample number\")\n",
    "plt.ylabel(\"Voltage (V)\")\n",
    "plt.title(\"Inverse FFT using magnitude of FFT coefficients\\n of square wave fourier series\")\n",
    "plt.savefig(\"inverse_FFT_magnitude_square_wave_fourier_series.png\")\n",
    "#plt.show()"
   ]
  },
  {
   "cell_type": "markdown",
   "metadata": {},
   "source": [
    "We now zero all frequencies above the Nyquist frequency and do an inverse FFT"
   ]
  },
  {
   "cell_type": "code",
   "execution_count": 391,
   "metadata": {},
   "outputs": [],
   "source": [
    "nyquist = fs/2 # nyquist frequency\n",
    "num_frequencies = nyquist/fs * len(ffs) # number of frequencies in the FFT below the nyquist frequency\n",
    "\n",
    "# initialise corrected_fourier to be all zeros, then replace all the values below the nyquist frequency with the original values\n",
    "# we have to specify dtype=complex otherwise it will cast the complex numbers to floats in the next line\n",
    "corrected_fourier = np.zeros(len(fourier), dtype=complex) \n",
    "corrected_fourier[:int(num_frequencies)] = fourier[:int(num_frequencies)]\n",
    "\n",
    "# do the inverse DFT\n",
    "corrected_reverse = np.real(np.fft.ifft(corrected_fourier))\n",
    "\n",
    "# plot the signal\n",
    "plt.plot(corrected_reverse)\n",
    "plt.xlabel(\"sample number\")\n",
    "plt.ylabel(\"Voltage (V)\")\n",
    "plt.title(\"Inverse FFT of FFT of square wave fourier series,\\n with all frequencies above nyquist set to zero\")\n",
    "plt.savefig(\"inverse_FFT_nyquist_square_wave_fourier_series.png\")\n",
    "#plt.show()"
   ]
  },
  {
   "cell_type": "markdown",
   "metadata": {},
   "source": [
    "## 5.3 Leakage\n",
    "\n",
    "We generate a pure sine wave with a sample number slightly different from the frequency (we choose 350 samples and a frequency of 300Hz), and then use various methods to reduce problems caused by leakage"
   ]
  },
  {
   "cell_type": "code",
   "execution_count": 392,
   "metadata": {},
   "outputs": [],
   "source": [
    "# generate a sine wave and plot\n",
    "nsample = 350\n",
    "sample_nums = np.arange(nsample)\n",
    "freq = 300\n",
    "signal = np.sin(2*np.pi*sample_nums*freq/fs)\n",
    "plt.plot(signal)\n",
    "plt.xlabel(\"sample number\")\n",
    "plt.ylabel(\"Voltage (V)\")\n",
    "plt.title(\"Sine wave, frequency = 300 Hz, 350 samples\")\n",
    "plt.savefig(\"sine_wave_300Hz_350samples.png\")\n",
    "#plt.show()"
   ]
  },
  {
   "cell_type": "code",
   "execution_count": 393,
   "metadata": {},
   "outputs": [],
   "source": [
    "# perform fourier series of sine wave\n",
    "fourier = np.fft.fft(signal)\n",
    "ffs=fs/nsample*sample_nums\n",
    "# plot FFT\n",
    "plt.plot(ffs,abs(fourier))\n",
    "plt.xlabel(\"frequency [Hz]\")\n",
    "plt.ylabel(\"Fourier coefficient amplitude\")\n",
    "plt.title(\"FFT of 300Hz wave with 350 samples\")\n",
    "plt.savefig(\"FFT_sine_wave_300Hz_350samples.png\")\n",
    "#plt.show()"
   ]
  },
  {
   "cell_type": "markdown",
   "metadata": {},
   "source": [
    "We now generate a reflected signal, and perform a FFT to check that leakage is reduced"
   ]
  },
  {
   "cell_type": "code",
   "execution_count": 394,
   "metadata": {},
   "outputs": [],
   "source": [
    "# convert signal to a list to allow us to use the append method, which is not available for numpy arrays\n",
    "time_reflected = list(signal)\n",
    "# reflect the signal\n",
    "for i in range(len(signal)):\n",
    "    time_reflected.append(signal[len(signal)-i-1])\n",
    "plt.plot(time_reflected)\n",
    "plt.xlabel(\"Sample\")\n",
    "plt.ylabel(\"Voltage\")\n",
    "plt.title(\"Time reflected signal\")\n",
    "plt.savefig(\"time_reflected_signal.png\")\n",
    "#plt.show()"
   ]
  },
  {
   "cell_type": "code",
   "execution_count": 395,
   "metadata": {},
   "outputs": [],
   "source": [
    "time_reflected_fourier = np.fft.fft(time_reflected)\n",
    "sample_nums = np.arange(nsample*2) # sample numbers\n",
    "ffs=fs/nsample*sample_nums\n",
    "\n",
    "plt.plot(ffs,abs(time_reflected_fourier))\n",
    "plt.xlabel(\"frequency [Hz]\")\n",
    "plt.ylabel(\"Fourier coefficient amplitude\")\n",
    "plt.title(\"Fourier transform of time reflected signal\")\n",
    "plt.savefig(\"ft_of_time_reflected_signal.png\")\n",
    "#plt.show()"
   ]
  },
  {
   "cell_type": "markdown",
   "metadata": {},
   "source": [
    "Use a Hamming window to reduce leakage"
   ]
  },
  {
   "cell_type": "code",
   "execution_count": 396,
   "metadata": {},
   "outputs": [],
   "source": [
    "hamming_window = np.hamming(nsample)\n",
    "corrected_signal = signal*hamming_window\n",
    "plt.plot(corrected_signal)\n",
    "plt.plot(hamming_window, color=\"red\")\n",
    "plt.xlabel(\"Sample\")\n",
    "plt.ylabel(\"Voltage\")\n",
    "plt.title(\"Hamming window applied to signal\")\n",
    "plt.savefig(\"hamming_window.png\")\n",
    "#plt.show()"
   ]
  },
  {
   "cell_type": "code",
   "execution_count": 397,
   "metadata": {},
   "outputs": [],
   "source": [
    "hamming_fourier = np.fft.fft(corrected_signal)\n",
    "sample_nums = np.arange(nsample) # sample numbers\n",
    "ffs=fs/nsample*sample_nums\n",
    "plt.plot(ffs,abs(hamming_fourier))\n",
    "plt.xlabel(\"frequency [Hz]\")\n",
    "plt.ylabel(\"Fourier coefficient amplitude\")\n",
    "plt.title(\"Fourier transform of signal with hamming window\")\n",
    "plt.savefig(\"ft_of_hamming_window.png\")\n",
    "#plt.show()"
   ]
  },
  {
   "cell_type": "markdown",
   "metadata": {},
   "source": [
    "## 5.4.1 - Interpolation\n",
    "\n",
    "We generate a sinusoidal signal of frequency 120Hz, but only sampled 20 times, and then use interpolation to reconstruct a signal and compare it to the original"
   ]
  },
  {
   "cell_type": "code",
   "execution_count": 398,
   "metadata": {},
   "outputs": [],
   "source": [
    "fs = 1000 # sampling frequency\n",
    "nsample = 20\n",
    "freq = 120\n",
    "xvals = np.linspace(0, nsample, 10000) # places that we \"sample\" our interpolated signals for plotting\n",
    "\n",
    "# to reducce the error in the sinc interpolation, use the following \n",
    "# to generate a \"fake\" point outside of the plotting range to interpolate to\n",
    "# nsample = 21 # generate the fake point\n",
    "# xvals = np.linspace(0, nsample-1, 10000) # only plot up to nsample-1\n",
    "\n",
    "sample_nums = np.arange(nsample) # sample numbers\n",
    "signal = np.sin(2*np.pi*sample_nums*freq/fs)\n",
    "perfect_signal = np.sin(2*np.pi*xvals*freq/fs) # signal sampled at 10000 points for comparison\n",
    "\n",
    "\n",
    "\n",
    "# picewise constant interpolation\n",
    "pci = []\n",
    "for x in xvals:\n",
    "    if x < 0 or x >= nsample:\n",
    "        pci.append(0)\n",
    "    else:\n",
    "        pci.append(signal[math.floor(x)])\n",
    "\n",
    "# liner interpolation\n",
    "li = np.interp(xvals, sample_nums, signal)\n",
    "\n",
    "#sinc interpolation\n",
    "def whittaker_shannon(x):\n",
    "    N=nsample\n",
    "    rep = 0\n",
    "\n",
    "    for i in range(N):\n",
    "        rep+=signal[i] * np.sinc((x-i*1/fs)/(1/fs))\n",
    "    return rep\n",
    "\n",
    "sinc = []\n",
    "for x in xvals:\n",
    "    sinc.append(whittaker_shannon(x/fs))\n",
    "\n",
    "# plotting\n",
    "fig = plt.figure()\n",
    "fig.set_figwidth(10)\n",
    "ax = plt.subplot(111)\n",
    "ax.scatter(sample_nums, signal, label = \"Samples\")\n",
    "ax.plot(xvals, perfect_signal, label = \"Perfect signal\")\n",
    "ax.plot(xvals, pci, color = \"red\", label=\"Piecewise constant interpolation\")\n",
    "ax.plot(xvals, li, color = \"orange\", label=\"Linear interpolation\")\n",
    "ax.plot(xvals, sinc, color = \"green\", label=\"Sinc interpolation\")\n",
    "ax.legend(loc='upper center', bbox_to_anchor=(0.5, -0.2),\n",
    "          fancybox=True, shadow=True, ncol=5)\n",
    "plt.xlabel(\"Sample\")\n",
    "plt.ylabel(\"Voltage\")\n",
    "plt.title(\"Interpolations of signal\")\n",
    "plt.tight_layout() # required so savefig doesn't cut off the legend\n",
    "plt.savefig(\"interpolations.png\")\n",
    "#plt.show()"
   ]
  },
  {
   "cell_type": "code",
   "execution_count": 399,
   "metadata": {},
   "outputs": [
    {
     "name": "stdout",
     "output_type": "stream",
     "text": [
      "RMS of piecewise constant interpolation:  0.29904989499933887\n",
      "RMS of linear interpolation:  0.05652357091644098\n",
      "RMS of sinc interpolation:  0.08929843190358666\n"
     ]
    }
   ],
   "source": [
    "# calculate the error between the perfect signal and the interpolated signals\n",
    "def rms(f1, f2):\n",
    "    return np.sqrt(np.mean((f1-f2)**2))\n",
    "\n",
    "print(\"RMS of piecewise constant interpolation: \", rms(perfect_signal, pci))\n",
    "print(\"RMS of linear interpolation: \", rms(perfect_signal, li))\n",
    "print(\"RMS of sinc interpolation: \", rms(perfect_signal, sinc))"
   ]
  },
  {
   "cell_type": "markdown",
   "metadata": {},
   "source": [
    "## 5.4.2 - Digital-to-Analogue conversion\n",
    "\n",
    "We perform a FFT of the picewise constant interpolated signal, remove all freqencies above the nyquist and then perform an inverse FFT and plot"
   ]
  },
  {
   "cell_type": "code",
   "execution_count": 400,
   "metadata": {},
   "outputs": [],
   "source": [
    "# fft of picewise constant interpolation\n",
    "pci_fourier = np.fft.fft(pci)\n",
    "ffs = fs/nsample*xvals\n",
    "\n",
    "# remove all frequencies above the nyquist frequency, then inverse transform\n",
    "adjusted_pci_fourier = np.zeros(len(pci_fourier), dtype=complex)\n",
    "adjusted_pci_fourier[:int(nsample/2)] = pci_fourier[:int(nsample/2)]\n",
    "reverse_pci_fourier = np.real(np.fft.ifft(adjusted_pci_fourier))\n",
    "\n",
    "plt.plot(xvals,abs(reverse_pci_fourier))\n",
    "plt.plot(xvals,abs(perfect_signal), color=\"red\")\n",
    "plt.xlabel(\"Sample\")\n",
    "plt.ylabel(\"Voltage (V)\")\n",
    "plt.title(\"Inverse FFT of FFT of piecewise constant interpolation\\n with frequencies above nyquist removed\")\n",
    "plt.savefig(\"inverse_fft_of_pci.png\")\n",
    "#plt.show()"
   ]
  }
 ],
 "metadata": {
  "kernelspec": {
   "display_name": "Python 3.8.5 32-bit",
   "language": "python",
   "name": "python3"
  },
  "language_info": {
   "codemirror_mode": {
    "name": "ipython",
    "version": 3
   },
   "file_extension": ".py",
   "mimetype": "text/x-python",
   "name": "python",
   "nbconvert_exporter": "python",
   "pygments_lexer": "ipython3",
   "version": "3.8.5"
  },
  "orig_nbformat": 4,
  "vscode": {
   "interpreter": {
    "hash": "49230419ac5b5dccadf7ecc09a071509d169024853e922f47f33e7bbc4d789d9"
   }
  }
 },
 "nbformat": 4,
 "nbformat_minor": 2
}
